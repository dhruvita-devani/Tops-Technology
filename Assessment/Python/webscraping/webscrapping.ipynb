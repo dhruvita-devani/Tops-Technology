{
 "cells": [
  {
   "cell_type": "code",
   "execution_count": 1,
   "id": "c2056c48-961e-48bf-bf68-c4491f49bc49",
   "metadata": {},
   "outputs": [
    {
     "name": "stdout",
     "output_type": "stream",
     "text": [
      "Requirement already satisfied: requests in c:\\users\\harsh\\anaconda3\\lib\\site-packages (2.32.3)\n",
      "Requirement already satisfied: beautifulsoup4 in c:\\users\\harsh\\anaconda3\\lib\\site-packages (4.12.3)\n",
      "Requirement already satisfied: charset-normalizer<4,>=2 in c:\\users\\harsh\\anaconda3\\lib\\site-packages (from requests) (3.3.2)\n",
      "Requirement already satisfied: idna<4,>=2.5 in c:\\users\\harsh\\anaconda3\\lib\\site-packages (from requests) (3.7)\n",
      "Requirement already satisfied: urllib3<3,>=1.21.1 in c:\\users\\harsh\\anaconda3\\lib\\site-packages (from requests) (2.2.3)\n",
      "Requirement already satisfied: certifi>=2017.4.17 in c:\\users\\harsh\\anaconda3\\lib\\site-packages (from requests) (2025.1.31)\n",
      "Requirement already satisfied: soupsieve>1.2 in c:\\users\\harsh\\anaconda3\\lib\\site-packages (from beautifulsoup4) (2.5)\n",
      "Note: you may need to restart the kernel to use updated packages.\n"
     ]
    }
   ],
   "source": [
    "pip install requests beautifulsoup4"
   ]
  },
  {
   "cell_type": "code",
   "execution_count": 3,
   "id": "afd6238e-be8a-4c0a-90a2-d1b0ab464cbf",
   "metadata": {},
   "outputs": [
    {
     "name": "stdout",
     "output_type": "stream",
     "text": [
      "Data saved to books.csv 🎉\n"
     ]
    }
   ],
   "source": [
    "import requests\n",
    "from bs4 import BeautifulSoup\n",
    "import csv\n",
    "\n",
    "url = \"http://books.toscrape.com/\"\n",
    "response = requests.get(url)\n",
    "soup = BeautifulSoup(response.text, \"html.parser\")\n",
    "\n",
    "books = soup.find_all(\"article\", class_=\"product_pod\")\n",
    "\n",
    "# Open a CSV file to write the data\n",
    "with open(\"books.csv\", mode=\"w\", newline=\"\", encoding=\"utf-8\") as file:\n",
    "    writer = csv.writer(file)\n",
    "    writer.writerow([\"Title\", \"Price\"])  # Write headers\n",
    "\n",
    "    for book in books:\n",
    "        title = book.h3.a[\"title\"]\n",
    "        price = book.find(\"p\", class_=\"price_color\").text\n",
    "        writer.writerow([title, price])  # Write each row\n",
    "\n",
    "print(\"Data saved to books.csv 🎉\")\n"
   ]
  },
  {
   "cell_type": "code",
   "execution_count": 5,
   "id": "355704e9-f32c-42ca-8f35-7fa16afdf3c9",
   "metadata": {},
   "outputs": [
    {
     "name": "stdout",
     "output_type": "stream",
     "text": [
      "Scraped page 1...\n",
      "Scraped page 2...\n",
      "Scraped page 3...\n",
      "Scraped page 4...\n",
      "Scraped page 5...\n",
      "Scraped page 6...\n",
      "Scraped page 7...\n",
      "Scraped page 8...\n",
      "Scraped page 9...\n",
      "Scraped page 10...\n",
      "Scraped page 11...\n",
      "Scraped page 12...\n",
      "Scraped page 13...\n",
      "Scraped page 14...\n",
      "Scraped page 15...\n",
      "Scraped page 16...\n",
      "Scraped page 17...\n",
      "Scraped page 18...\n",
      "Scraped page 19...\n",
      "Scraped page 20...\n",
      "Scraped page 21...\n",
      "Scraped page 22...\n",
      "Scraped page 23...\n",
      "Scraped page 24...\n",
      "Scraped page 25...\n",
      "Scraped page 26...\n",
      "Scraped page 27...\n",
      "Scraped page 28...\n",
      "Scraped page 29...\n",
      "Scraped page 30...\n",
      "Scraped page 31...\n",
      "Scraped page 32...\n",
      "Scraped page 33...\n",
      "Scraped page 34...\n",
      "Scraped page 35...\n",
      "Scraped page 36...\n",
      "Scraped page 37...\n",
      "Scraped page 38...\n",
      "Scraped page 39...\n",
      "Scraped page 40...\n",
      "Scraped page 41...\n",
      "Scraped page 42...\n",
      "Scraped page 43...\n",
      "Scraped page 44...\n",
      "Scraped page 45...\n",
      "Scraped page 46...\n",
      "Scraped page 47...\n",
      "Scraped page 48...\n",
      "Scraped page 49...\n",
      "Scraped page 50...\n",
      "All books saved to all_books.csv\n"
     ]
    }
   ],
   "source": [
    "import requests\n",
    "from bs4 import BeautifulSoup\n",
    "import csv\n",
    "\n",
    "base_url = \"http://books.toscrape.com/catalogue/page-{}.html\"\n",
    "page = 1\n",
    "all_books = []\n",
    "\n",
    "while True:\n",
    "    url = base_url.format(page)\n",
    "    response = requests.get(url)\n",
    "    if response.status_code != 200:\n",
    "        break  # Stop when we hit a page that doesn't exist\n",
    "\n",
    "    soup = BeautifulSoup(response.text, \"html.parser\")\n",
    "    books = soup.find_all(\"article\", class_=\"product_pod\")\n",
    "\n",
    "    if not books:\n",
    "        break  # No more books found\n",
    "\n",
    "    for book in books:\n",
    "        title = book.h3.a[\"title\"]\n",
    "        price = book.find(\"p\", class_=\"price_color\").text\n",
    "        availability = book.find(\"p\", class_=\"instock availability\").get_text(strip=True)\n",
    "        all_books.append([title, price, availability])\n",
    "\n",
    "    print(f\"Scraped page {page}...\")\n",
    "    page += 1\n",
    "\n",
    "# Save to CSV\n",
    "with open(\"all_books.csv\", mode=\"w\", newline=\"\", encoding=\"utf-8\") as file:\n",
    "    writer = csv.writer(file)\n",
    "    writer.writerow([\"Title\", \"Price\", \"Availability\"])\n",
    "    writer.writerows(all_books)\n",
    "\n",
    "print(\"All books saved to all_books.csv\")\n"
   ]
  },
  {
   "cell_type": "code",
   "execution_count": null,
   "id": "53b729df-1926-4dc7-93bc-4f6cae9a23ef",
   "metadata": {},
   "outputs": [],
   "source": []
  }
 ],
 "metadata": {
  "kernelspec": {
   "display_name": "Python [conda env:base] *",
   "language": "python",
   "name": "conda-base-py"
  },
  "language_info": {
   "codemirror_mode": {
    "name": "ipython",
    "version": 3
   },
   "file_extension": ".py",
   "mimetype": "text/x-python",
   "name": "python",
   "nbconvert_exporter": "python",
   "pygments_lexer": "ipython3",
   "version": "3.12.7"
  }
 },
 "nbformat": 4,
 "nbformat_minor": 5
}
